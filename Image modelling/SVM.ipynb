{
 "cells": [
  {
   "cell_type": "code",
   "execution_count": 5,
   "metadata": {
    "execution": {
     "iopub.execute_input": "2022-12-07T18:09:29.805912Z",
     "iopub.status.busy": "2022-12-07T18:09:29.805101Z",
     "iopub.status.idle": "2022-12-07T18:09:31.207259Z",
     "shell.execute_reply": "2022-12-07T18:09:31.205929Z",
     "shell.execute_reply.started": "2022-12-07T18:09:29.805864Z"
    }
   },
   "outputs": [],
   "source": [
    "import numpy as np\n",
    "import pandas as pd\n",
    "import matplotlib.pyplot as plt\n",
    "\n",
    "plt.style.use(\"ggplot\")\n",
    "\n",
    "import torch\n",
    "\n",
    "import gc\n",
    "import os\n",
    "import time\n",
    "import random\n",
    "from datetime import datetime\n",
    "\n",
    "from PIL import Image\n",
    "from tqdm.notebook import tqdm\n",
    "from sklearn import model_selection, metrics\n",
    "from sklearn.model_selection import train_test_split"
   ]
  },
  {
   "cell_type": "code",
   "execution_count": 8,
   "metadata": {
    "execution": {
     "iopub.execute_input": "2022-12-07T18:09:32.728410Z",
     "iopub.status.busy": "2022-12-07T18:09:32.728083Z",
     "iopub.status.idle": "2022-12-07T18:09:32.758221Z",
     "shell.execute_reply": "2022-12-07T18:09:32.756874Z",
     "shell.execute_reply.started": "2022-12-07T18:09:32.728377Z"
    }
   },
   "outputs": [],
   "source": [
    "#make train, test sets\n",
    "from sklearn import preprocessing\n",
    "\n",
    "DATA_PATH = \"../input/sdss-images/data.csv\"\n",
    "df = pd.read_csv(DATA_PATH)\n",
    "\n",
    "le = preprocessing.LabelEncoder()\n",
    "df['class'] = le.fit_transform(df['class'])\n",
    "\n",
    "train,val = train_test_split(df,test_size=0.2,random_state=2022)\n",
    "train = train.reset_index().drop(['index'],axis=1)\n",
    "val = val.reset_index().drop(['index'],axis=1)\n",
    "val,test= train_test_split(val,test_size=0.5,random_state=2022)\n",
    "val = val.reset_index().drop(['index'],axis=1)\n",
    "test = test.reset_index().drop(['index'],axis=1)"
   ]
  },
  {
   "cell_type": "code",
   "execution_count": 9,
   "metadata": {
    "execution": {
     "iopub.execute_input": "2022-12-07T18:09:34.276298Z",
     "iopub.status.busy": "2022-12-07T18:09:34.276017Z",
     "iopub.status.idle": "2022-12-07T18:09:34.285826Z",
     "shell.execute_reply": "2022-12-07T18:09:34.285031Z",
     "shell.execute_reply.started": "2022-12-07T18:09:34.276268Z"
    }
   },
   "outputs": [
    {
     "data": {
      "text/plain": [
       "array(['GALAXY', 'QSO', 'STAR'], dtype=object)"
      ]
     },
     "execution_count": 9,
     "metadata": {},
     "output_type": "execute_result"
    }
   ],
   "source": [
    "le.classes_"
   ]
  },
  {
   "cell_type": "code",
   "execution_count": 10,
   "metadata": {
    "execution": {
     "iopub.execute_input": "2022-12-07T18:09:34.873756Z",
     "iopub.status.busy": "2022-12-07T18:09:34.873386Z",
     "iopub.status.idle": "2022-12-07T18:09:34.887565Z",
     "shell.execute_reply": "2022-12-07T18:09:34.886816Z",
     "shell.execute_reply.started": "2022-12-07T18:09:34.873722Z"
    }
   },
   "outputs": [
    {
     "data": {
      "text/html": [
       "<div>\n",
       "<style scoped>\n",
       "    .dataframe tbody tr th:only-of-type {\n",
       "        vertical-align: middle;\n",
       "    }\n",
       "\n",
       "    .dataframe tbody tr th {\n",
       "        vertical-align: top;\n",
       "    }\n",
       "\n",
       "    .dataframe thead th {\n",
       "        text-align: right;\n",
       "    }\n",
       "</style>\n",
       "<table border=\"1\" class=\"dataframe\">\n",
       "  <thead>\n",
       "    <tr style=\"text-align: right;\">\n",
       "      <th></th>\n",
       "      <th>class</th>\n",
       "      <th>image</th>\n",
       "    </tr>\n",
       "  </thead>\n",
       "  <tbody>\n",
       "    <tr>\n",
       "      <th>0</th>\n",
       "      <td>0</td>\n",
       "      <td>image_5516.jpg</td>\n",
       "    </tr>\n",
       "    <tr>\n",
       "      <th>1</th>\n",
       "      <td>1</td>\n",
       "      <td>image_1255.jpg</td>\n",
       "    </tr>\n",
       "  </tbody>\n",
       "</table>\n",
       "</div>"
      ],
      "text/plain": [
       "   class           image\n",
       "0      0  image_5516.jpg\n",
       "1      1  image_1255.jpg"
      ]
     },
     "execution_count": 10,
     "metadata": {},
     "output_type": "execute_result"
    }
   ],
   "source": [
    "train.head(2)"
   ]
  },
  {
   "cell_type": "code",
   "execution_count": 11,
   "metadata": {
    "execution": {
     "iopub.execute_input": "2022-12-07T18:09:35.641976Z",
     "iopub.status.busy": "2022-12-07T18:09:35.641210Z",
     "iopub.status.idle": "2022-12-07T18:09:36.176546Z",
     "shell.execute_reply": "2022-12-07T18:09:36.175479Z",
     "shell.execute_reply.started": "2022-12-07T18:09:35.641940Z"
    }
   },
   "outputs": [],
   "source": [
    "!mkdir images\n",
    "!mkdir images/val images/train"
   ]
  },
  {
   "cell_type": "code",
   "execution_count": 13,
   "metadata": {
    "execution": {
     "iopub.execute_input": "2022-12-07T18:10:04.840708Z",
     "iopub.status.busy": "2022-12-07T18:10:04.840312Z",
     "iopub.status.idle": "2022-12-07T18:10:29.755222Z",
     "shell.execute_reply": "2022-12-07T18:10:29.753829Z",
     "shell.execute_reply.started": "2022-12-07T18:10:04.840667Z"
    }
   },
   "outputs": [],
   "source": [
    "import shutil\n",
    "\n",
    "for img in train['image']:\n",
    "    shutil.copy(\"../input/sdss-images/images (1)/images/\"+img,\"./images/train/\"+img)\n",
    "    \n",
    "for img in val['image']:\n",
    "    shutil.copy(\"../input/sdss-images/images (1)/images/\"+img,\"./images/val/\"+img)\n",
    "    "
   ]
  },
  {
   "cell_type": "code",
   "execution_count": 14,
   "metadata": {
    "execution": {
     "iopub.execute_input": "2022-12-07T18:10:29.757523Z",
     "iopub.status.busy": "2022-12-07T18:10:29.757192Z",
     "iopub.status.idle": "2022-12-07T18:10:43.388243Z",
     "shell.execute_reply": "2022-12-07T18:10:43.387256Z",
     "shell.execute_reply.started": "2022-12-07T18:10:29.757478Z"
    }
   },
   "outputs": [
    {
     "name": "stderr",
     "output_type": "stream",
     "text": [
      "100%|██████████| 8000/8000 [00:13<00:00, 587.50it/s]\n"
     ]
    }
   ],
   "source": [
    "from tqdm import tqdm\n",
    "\n",
    "images,labels = list(),list()\n",
    "for index in tqdm(range(len(train))):\n",
    "    label,img_name = train.iloc[index]\n",
    "    img_path = os.path.join(\"/kaggle/input/sdss-images/images (1)/images/\", img_name)\n",
    "    img = Image.open(img_path).convert(\"RGB\")\n",
    "    images.append(np.asarray(img).flatten())\n",
    "    labels.append(label)"
   ]
  },
  {
   "cell_type": "code",
   "execution_count": 15,
   "metadata": {
    "execution": {
     "iopub.execute_input": "2022-12-07T18:10:54.811552Z",
     "iopub.status.busy": "2022-12-07T18:10:54.811145Z",
     "iopub.status.idle": "2022-12-07T18:24:40.618373Z",
     "shell.execute_reply": "2022-12-07T18:24:40.615922Z",
     "shell.execute_reply.started": "2022-12-07T18:10:54.811519Z"
    }
   },
   "outputs": [
    {
     "data": {
      "text/plain": [
       "SVC()"
      ]
     },
     "execution_count": 15,
     "metadata": {},
     "output_type": "execute_result"
    }
   ],
   "source": [
    "from sklearn.svm import SVC\n",
    "svm = SVC()\n",
    "svm.fit(images,labels)"
   ]
  },
  {
   "cell_type": "code",
   "execution_count": 16,
   "metadata": {
    "execution": {
     "iopub.execute_input": "2022-12-07T18:24:51.563496Z",
     "iopub.status.busy": "2022-12-07T18:24:51.562666Z",
     "iopub.status.idle": "2022-12-07T18:24:53.560747Z",
     "shell.execute_reply": "2022-12-07T18:24:53.559568Z",
     "shell.execute_reply.started": "2022-12-07T18:24:51.563429Z"
    }
   },
   "outputs": [
    {
     "name": "stderr",
     "output_type": "stream",
     "text": [
      "100%|██████████| 1000/1000 [00:01<00:00, 506.82it/s]\n"
     ]
    }
   ],
   "source": [
    "from tqdm import tqdm\n",
    "\n",
    "images,labels = list(),list()\n",
    "for index in tqdm(range(len(val))):\n",
    "    label,img_name = val.iloc[index]\n",
    "    img_path = os.path.join(\"/kaggle/input/sdss-images/images (1)/images/\", img_name)\n",
    "    img = Image.open(img_path).convert(\"RGB\")\n",
    "    images.append(np.asarray(img).flatten())\n",
    "    labels.append(label)"
   ]
  },
  {
   "cell_type": "code",
   "execution_count": 17,
   "metadata": {
    "execution": {
     "iopub.execute_input": "2022-12-07T18:25:00.379888Z",
     "iopub.status.busy": "2022-12-07T18:25:00.379340Z",
     "iopub.status.idle": "2022-12-07T18:26:50.691405Z",
     "shell.execute_reply": "2022-12-07T18:26:50.690508Z",
     "shell.execute_reply.started": "2022-12-07T18:25:00.379839Z"
    }
   },
   "outputs": [
    {
     "data": {
      "text/plain": [
       "0.932"
      ]
     },
     "execution_count": 17,
     "metadata": {},
     "output_type": "execute_result"
    }
   ],
   "source": [
    "svm.score(images,labels)"
   ]
  },
  {
   "cell_type": "code",
   "execution_count": null,
   "metadata": {},
   "outputs": [],
   "source": []
  },
  {
   "cell_type": "code",
   "execution_count": null,
   "metadata": {},
   "outputs": [],
   "source": []
  },
  {
   "cell_type": "code",
   "execution_count": null,
   "metadata": {},
   "outputs": [],
   "source": []
  }
 ],
 "metadata": {
  "kernelspec": {
   "display_name": "Python 3 (ipykernel)",
   "language": "python",
   "name": "python3"
  },
  "language_info": {
   "codemirror_mode": {
    "name": "ipython",
    "version": 3
   },
   "file_extension": ".py",
   "mimetype": "text/x-python",
   "name": "python",
   "nbconvert_exporter": "python",
   "pygments_lexer": "ipython3",
   "version": "3.9.7"
  }
 },
 "nbformat": 4,
 "nbformat_minor": 4
}
