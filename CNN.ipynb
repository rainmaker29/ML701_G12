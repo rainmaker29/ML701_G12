{
  "nbformat": 4,
  "nbformat_minor": 0,
  "metadata": {
    "colab": {
      "provenance": [],
      "collapsed_sections": [],
      "authorship_tag": "ABX9TyM6JwhvieORJHjxWrcWvXxg",
      "include_colab_link": true
    },
    "kernelspec": {
      "name": "python3",
      "display_name": "Python 3"
    },
    "language_info": {
      "name": "python"
    },
    "accelerator": "GPU"
  },
  "cells": [
    {
      "cell_type": "markdown",
      "metadata": {
        "id": "view-in-github",
        "colab_type": "text"
      },
      "source": [
        "<a href=\"https://colab.research.google.com/github/rainmaker29/ML701_G12/blob/main/CNN.ipynb\" target=\"_parent\"><img src=\"https://colab.research.google.com/assets/colab-badge.svg\" alt=\"Open In Colab\"/></a>"
      ]
    },
    {
      "cell_type": "code",
      "source": [
        "import os\n",
        "import cv2\n",
        "import numpy as np\n",
        "\n",
        "import zipfile\n",
        "from PIL import Image\n",
        "from google.colab.patches import cv2_imshow\n",
        "\n",
        "from sklearn.model_selection import train_test_split\n",
        "from keras.utils import np_utils\n",
        "from keras.models import Sequential\n",
        "from keras.layers import Dense, Dropout, Conv2D, MaxPool2D, Flatten"
      ],
      "metadata": {
        "id": "uHxewWUoI0sq"
      },
      "execution_count": 12,
      "outputs": []
    },
    {
      "cell_type": "code",
      "source": [
        "# Reading the data\n",
        "\n",
        "with zipfile.ZipFile(\"/content/train_.zip\", \"r\") as zip_data:\n",
        "    content_list = zip_data.namelist()\n",
        "    labels = []\n",
        "    for folder in ['train_/GALAXY/', 'train_/STAR/', 'train_/QSO/']:\n",
        "        content_list.remove(folder)\n",
        "    for _, name_file in enumerate(content_list):\n",
        "        img_bytes = zip_data.open(name_file)\n",
        "        img_data = Image.open(img_bytes)\n",
        "        image_as_array = np.array(img_data, np.uint8)\n",
        "        if _ == 0:\n",
        "            data = image_as_array[np.newaxis, :]\n",
        "        else:\n",
        "            data = np.concatenate((data, image_as_array[np.newaxis, :]))\n",
        "        if 'GALAXY' in name_file:\n",
        "            labels.append('GALAXY')\n",
        "        elif 'QSO' in name_file:\n",
        "            labels.append('QSO')\n",
        "        elif 'STAR' in name_file:\n",
        "            labels.append('STAR')\n",
        "\n",
        "# Shuffling the data\n",
        "\n",
        "labels = np.array(labels)\n",
        "\n",
        "shuffler = np.random.RandomState(seed=10).permutation(data.shape[0])\n",
        "\n",
        "y_not_encoded = labels[shuffler]\n",
        "y = np.unique(y_not_encoded, return_inverse=True)[1]\n",
        "\n",
        "x = data[shuffler]\n",
        "x = x.astype('float32')\n",
        "x /= 255\n",
        "\n",
        "# Saving the data\n",
        "import h5py\n",
        "\n",
        "with h5py.File('images_matrix.h5', 'w') as hf:\n",
        "    hf.create_dataset(\"images_matrix\",  data=x)\n",
        "\n",
        "with h5py.File('labels.h5', 'w') as hf:\n",
        "    hf.create_dataset(\"labels\",  data=y)"
      ],
      "metadata": {
        "id": "ZXi5G1JJdXty"
      },
      "execution_count": 3,
      "outputs": []
    },
    {
      "cell_type": "code",
      "source": [
        "# Reading the data\n",
        "\n",
        "#with h5py.File('images_matrix.h5', 'r') as hf:\n",
        "#    testing = hf['images_matrix'][:]\n",
        "\n",
        "# Splitting the data on train and test sets\n",
        "\n",
        "x_train, x_test, y_train, y_test = train_test_split(x, y, random_state=10, test_size = 0.2)\n",
        "\n",
        "# Encoding the labels\n",
        "\n",
        "n_classes = 3\n",
        "y_train = np_utils.to_categorical(y_train, n_classes)\n",
        "y_test = np_utils.to_categorical(y_test, n_classes)"
      ],
      "metadata": {
        "id": "eO3xkl75fPgv"
      },
      "execution_count": 4,
      "outputs": []
    },
    {
      "cell_type": "code",
      "source": [
        "# building a linear stack of layers with the sequential model\n",
        "model = Sequential()\n",
        "\n",
        "# convolutional layer\n",
        "model.add(Conv2D(50, kernel_size=(3,3), strides=(1,1), padding='same', activation='relu', input_shape=(128, 128, 3)))\n",
        "\n",
        "# convolutional layer\n",
        "model.add(Conv2D(75, kernel_size=(3,3), strides=(1,1), padding='same', activation='relu'))\n",
        "model.add(MaxPool2D(pool_size=(2,2)))\n",
        "model.add(Dropout(0.25))\n",
        "\n",
        "model.add(Conv2D(125, kernel_size=(3,3), strides=(1,1), padding='same', activation='relu'))\n",
        "model.add(MaxPool2D(pool_size=(2,2)))\n",
        "model.add(Dropout(0.25))\n",
        "\n",
        "# flatten output of conv\n",
        "model.add(Flatten())\n",
        "\n",
        "# hidden layer\n",
        "model.add(Dense(500, activation='relu'))\n",
        "model.add(Dropout(0.4))\n",
        "model.add(Dense(250, activation='relu'))\n",
        "model.add(Dropout(0.3))\n",
        "# output layer\n",
        "model.add(Dense(3, activation='softmax'))\n",
        "\n",
        "# compiling the sequential model\n",
        "model.compile(loss='categorical_crossentropy', metrics=['accuracy'], optimizer='adam')\n",
        "\n",
        "# training the model for 10 epochs\n",
        "model.fit(x_train, y_train, batch_size=128, epochs=10, validation_data=(x_test, y_test))"
      ],
      "metadata": {
        "colab": {
          "base_uri": "https://localhost:8080/"
        },
        "id": "NSQ9FjHHe_Q_",
        "outputId": "f12e6aec-cb97-4284-a2b4-b7f1465065f4"
      },
      "execution_count": 13,
      "outputs": [
        {
          "output_type": "stream",
          "name": "stdout",
          "text": [
            "Epoch 1/10\n",
            "63/63 [==============================] - 35s 372ms/step - loss: 0.4372 - accuracy: 0.8316 - val_loss: 0.3355 - val_accuracy: 0.8780\n",
            "Epoch 2/10\n",
            "63/63 [==============================] - 20s 312ms/step - loss: 0.2236 - accuracy: 0.9169 - val_loss: 0.2170 - val_accuracy: 0.9260\n",
            "Epoch 3/10\n",
            "63/63 [==============================] - 20s 312ms/step - loss: 0.1819 - accuracy: 0.9396 - val_loss: 0.2059 - val_accuracy: 0.9375\n",
            "Epoch 4/10\n",
            "63/63 [==============================] - 20s 315ms/step - loss: 0.1446 - accuracy: 0.9535 - val_loss: 0.2429 - val_accuracy: 0.9180\n",
            "Epoch 5/10\n",
            "63/63 [==============================] - 20s 319ms/step - loss: 0.1431 - accuracy: 0.9523 - val_loss: 0.2090 - val_accuracy: 0.9395\n",
            "Epoch 6/10\n",
            "63/63 [==============================] - 20s 321ms/step - loss: 0.1295 - accuracy: 0.9561 - val_loss: 0.3116 - val_accuracy: 0.8895\n",
            "Epoch 7/10\n",
            "63/63 [==============================] - 20s 324ms/step - loss: 0.1123 - accuracy: 0.9628 - val_loss: 0.2209 - val_accuracy: 0.9425\n",
            "Epoch 8/10\n",
            "63/63 [==============================] - 20s 326ms/step - loss: 0.0901 - accuracy: 0.9711 - val_loss: 0.3033 - val_accuracy: 0.9225\n",
            "Epoch 9/10\n",
            "63/63 [==============================] - 20s 322ms/step - loss: 0.0823 - accuracy: 0.9744 - val_loss: 0.3450 - val_accuracy: 0.9150\n",
            "Epoch 10/10\n",
            "63/63 [==============================] - 20s 322ms/step - loss: 0.0774 - accuracy: 0.9764 - val_loss: 0.2954 - val_accuracy: 0.9370\n"
          ]
        },
        {
          "output_type": "execute_result",
          "data": {
            "text/plain": [
              "<keras.callbacks.History at 0x7fa51001ee10>"
            ]
          },
          "metadata": {},
          "execution_count": 13
        }
      ]
    },
    {
      "cell_type": "code",
      "source": [
        "predictions = model.predict(x_test)"
      ],
      "metadata": {
        "colab": {
          "base_uri": "https://localhost:8080/"
        },
        "id": "rF70qdsi59nO",
        "outputId": "5e6eeed1-e033-4b7c-c4d3-a60b94f2d2ab"
      },
      "execution_count": 15,
      "outputs": [
        {
          "output_type": "stream",
          "name": "stdout",
          "text": [
            "63/63 [==============================] - 2s 24ms/step\n"
          ]
        }
      ]
    },
    {
      "cell_type": "code",
      "source": [],
      "metadata": {
        "colab": {
          "base_uri": "https://localhost:8080/"
        },
        "id": "ej6Z0sr-7Vq2",
        "outputId": "69fe5b8a-bd1b-4343-b7ac-658b6cc1ce35"
      },
      "execution_count": 17,
      "outputs": [
        {
          "output_type": "execute_result",
          "data": {
            "text/plain": [
              "array([0.9984743 , 0.9997489 , 0.9886453 , ..., 0.9878862 , 0.99997985,\n",
              "       0.99957675], dtype=float32)"
            ]
          },
          "metadata": {},
          "execution_count": 17
        }
      ]
    },
    {
      "cell_type": "code",
      "source": [
        "np.where(predictions[0] == np.max(predictions[0], axis=1), 1, 0)"
      ],
      "metadata": {
        "colab": {
          "base_uri": "https://localhost:8080/",
          "height": 345
        },
        "id": "3-HaEEii6A0y",
        "outputId": "c568c346-4fc8-44b6-b0c7-7d7da1b4a17e"
      },
      "execution_count": 20,
      "outputs": [
        {
          "output_type": "error",
          "ename": "AxisError",
          "evalue": "ignored",
          "traceback": [
            "\u001b[0;31m---------------------------------------------------------------------------\u001b[0m",
            "\u001b[0;31mAxisError\u001b[0m                                 Traceback (most recent call last)",
            "\u001b[0;32m<ipython-input-20-4fc483165bad>\u001b[0m in \u001b[0;36m<module>\u001b[0;34m\u001b[0m\n\u001b[0;32m----> 1\u001b[0;31m \u001b[0mnp\u001b[0m\u001b[0;34m.\u001b[0m\u001b[0mwhere\u001b[0m\u001b[0;34m(\u001b[0m\u001b[0mpredictions\u001b[0m\u001b[0;34m[\u001b[0m\u001b[0;36m0\u001b[0m\u001b[0;34m]\u001b[0m \u001b[0;34m==\u001b[0m \u001b[0mnp\u001b[0m\u001b[0;34m.\u001b[0m\u001b[0mmax\u001b[0m\u001b[0;34m(\u001b[0m\u001b[0mpredictions\u001b[0m\u001b[0;34m[\u001b[0m\u001b[0;36m0\u001b[0m\u001b[0;34m]\u001b[0m\u001b[0;34m,\u001b[0m \u001b[0maxis\u001b[0m\u001b[0;34m=\u001b[0m\u001b[0;36m1\u001b[0m\u001b[0;34m)\u001b[0m\u001b[0;34m,\u001b[0m \u001b[0;36m1\u001b[0m\u001b[0;34m,\u001b[0m \u001b[0;36m0\u001b[0m\u001b[0;34m)\u001b[0m\u001b[0;34m\u001b[0m\u001b[0;34m\u001b[0m\u001b[0m\n\u001b[0m",
            "\u001b[0;32m<__array_function__ internals>\u001b[0m in \u001b[0;36mamax\u001b[0;34m(*args, **kwargs)\u001b[0m\n",
            "\u001b[0;32m/usr/local/lib/python3.7/dist-packages/numpy/core/fromnumeric.py\u001b[0m in \u001b[0;36mamax\u001b[0;34m(a, axis, out, keepdims, initial, where)\u001b[0m\n\u001b[1;32m   2753\u001b[0m     \"\"\"\n\u001b[1;32m   2754\u001b[0m     return _wrapreduction(a, np.maximum, 'max', axis, None, out,\n\u001b[0;32m-> 2755\u001b[0;31m                           keepdims=keepdims, initial=initial, where=where)\n\u001b[0m\u001b[1;32m   2756\u001b[0m \u001b[0;34m\u001b[0m\u001b[0m\n\u001b[1;32m   2757\u001b[0m \u001b[0;34m\u001b[0m\u001b[0m\n",
            "\u001b[0;32m/usr/local/lib/python3.7/dist-packages/numpy/core/fromnumeric.py\u001b[0m in \u001b[0;36m_wrapreduction\u001b[0;34m(obj, ufunc, method, axis, dtype, out, **kwargs)\u001b[0m\n\u001b[1;32m     84\u001b[0m                 \u001b[0;32mreturn\u001b[0m \u001b[0mreduction\u001b[0m\u001b[0;34m(\u001b[0m\u001b[0maxis\u001b[0m\u001b[0;34m=\u001b[0m\u001b[0maxis\u001b[0m\u001b[0;34m,\u001b[0m \u001b[0mout\u001b[0m\u001b[0;34m=\u001b[0m\u001b[0mout\u001b[0m\u001b[0;34m,\u001b[0m \u001b[0;34m**\u001b[0m\u001b[0mpasskwargs\u001b[0m\u001b[0;34m)\u001b[0m\u001b[0;34m\u001b[0m\u001b[0;34m\u001b[0m\u001b[0m\n\u001b[1;32m     85\u001b[0m \u001b[0;34m\u001b[0m\u001b[0m\n\u001b[0;32m---> 86\u001b[0;31m     \u001b[0;32mreturn\u001b[0m \u001b[0mufunc\u001b[0m\u001b[0;34m.\u001b[0m\u001b[0mreduce\u001b[0m\u001b[0;34m(\u001b[0m\u001b[0mobj\u001b[0m\u001b[0;34m,\u001b[0m \u001b[0maxis\u001b[0m\u001b[0;34m,\u001b[0m \u001b[0mdtype\u001b[0m\u001b[0;34m,\u001b[0m \u001b[0mout\u001b[0m\u001b[0;34m,\u001b[0m \u001b[0;34m**\u001b[0m\u001b[0mpasskwargs\u001b[0m\u001b[0;34m)\u001b[0m\u001b[0;34m\u001b[0m\u001b[0;34m\u001b[0m\u001b[0m\n\u001b[0m\u001b[1;32m     87\u001b[0m \u001b[0;34m\u001b[0m\u001b[0m\n\u001b[1;32m     88\u001b[0m \u001b[0;34m\u001b[0m\u001b[0m\n",
            "\u001b[0;31mAxisError\u001b[0m: axis 1 is out of bounds for array of dimension 1"
          ]
        }
      ]
    },
    {
      "cell_type": "code",
      "source": [
        "predictions.shape"
      ],
      "metadata": {
        "colab": {
          "base_uri": "https://localhost:8080/"
        },
        "id": "8BRZl8OS7hB3",
        "outputId": "09b54651-7db8-451b-aed3-bf220aa61ec0"
      },
      "execution_count": 19,
      "outputs": [
        {
          "output_type": "execute_result",
          "data": {
            "text/plain": [
              "(2000, 3)"
            ]
          },
          "metadata": {},
          "execution_count": 19
        }
      ]
    },
    {
      "cell_type": "code",
      "source": [
        "for n in range(predictions.shape[0]):\n",
        "    "
      ],
      "metadata": {
        "id": "e3Jni-RT7p4j"
      },
      "execution_count": null,
      "outputs": []
    }
  ]
}