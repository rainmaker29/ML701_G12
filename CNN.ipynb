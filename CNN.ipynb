{
  "nbformat": 4,
  "nbformat_minor": 0,
  "metadata": {
    "colab": {
      "provenance": [],
      "authorship_tag": "ABX9TyOfcZDbEXoh2tAy7wQJYtgT",
      "include_colab_link": true
    },
    "kernelspec": {
      "name": "python3",
      "display_name": "Python 3"
    },
    "language_info": {
      "name": "python"
    },
    "accelerator": "GPU",
    "gpuClass": "standard"
  },
  "cells": [
    {
      "cell_type": "markdown",
      "metadata": {
        "id": "view-in-github",
        "colab_type": "text"
      },
      "source": [
        "<a href=\"https://colab.research.google.com/github/rainmaker29/ML701_G12/blob/CNN/CNN.ipynb\" target=\"_parent\"><img src=\"https://colab.research.google.com/assets/colab-badge.svg\" alt=\"Open In Colab\"/></a>"
      ]
    },
    {
      "cell_type": "markdown",
      "source": [
        "# CNN"
      ],
      "metadata": {
        "id": "-1C4gqFOKsLR"
      }
    },
    {
      "cell_type": "code",
      "source": [
        "import os\n",
        "import cv2\n",
        "import h5py\n",
        "import numpy as np\n",
        "import seaborn as sns\n",
        "import matplotlib.pyplot as plt\n",
        "import pandas as pd\n",
        "import zipfile\n",
        "from PIL import Image\n",
        "from google.colab.patches import cv2_imshow\n",
        "from sklearn.metrics import classification_report\n",
        "from sklearn.metrics import confusion_matrix\n",
        "from sklearn.model_selection import train_test_split\n",
        "from keras.utils import np_utils\n",
        "from keras.models import Sequential\n",
        "from keras.layers import Dense, Dropout, Conv2D, MaxPool2D, Flatten\n",
        "from keras.utils import  Sequence"
      ],
      "metadata": {
        "id": "uHxewWUoI0sq"
      },
      "execution_count": null,
      "outputs": []
    },
    {
      "cell_type": "code",
      "source": [
        "# Reading the data from the zip file. The train_.zip compressed file should be uploaded into this notebook in order to run the rest of the cells\n",
        "\n",
        "with zipfile.ZipFile(\"/content/train_.zip\", \"r\") as zip_data:\n",
        "    content_list = zip_data.namelist()\n",
        "    labels = []\n",
        "    for folder in ['train_/GALAXY/', 'train_/STAR/', 'train_/QSO/']:\n",
        "        content_list.remove(folder) # Removing the name of the folders\n",
        "    for _, name_file in enumerate(content_list):\n",
        "        img_bytes = zip_data.open(name_file)\n",
        "        img_data = Image.open(img_bytes) # Opening the image file\n",
        "        image_as_array = np.array(img_data, np.uint8)\n",
        "        if _ == 0:\n",
        "            data = image_as_array[np.newaxis, :] # Creates the matrix of images at the beginning\n",
        "        else:\n",
        "            data = np.concatenate((data, image_as_array[np.newaxis, :])) # Concatenates images\n",
        "        # Appending the corresponding label for the current object\n",
        "        if 'GALAXY' in name_file:\n",
        "            labels.append('GALAXY')\n",
        "        elif 'QSO' in name_file:\n",
        "            labels.append('QSO')\n",
        "        elif 'STAR' in name_file:\n",
        "            labels.append('STAR')"
      ],
      "metadata": {
        "id": "ZXi5G1JJdXty"
      },
      "execution_count": null,
      "outputs": []
    },
    {
      "cell_type": "code",
      "source": [
        "# Saving the data\n",
        "\n",
        "#with h5py.File('images_matrix.h5', 'w') as hf:\n",
        "#    hf.create_dataset(\"images_matrix\",  data=x)\n",
        "\n",
        "#with h5py.File('labels.h5', 'w') as hf:\n",
        "#    hf.create_dataset(\"labels\",  data=y)"
      ],
      "metadata": {
        "id": "aFDkR2NNyaUO"
      },
      "execution_count": null,
      "outputs": []
    },
    {
      "cell_type": "code",
      "source": [
        "# Reading the data\n",
        "\n",
        "#with h5py.File('images_matrix.h5', 'r') as hf:\n",
        "#    data = hf['images_matrix'][:]\n",
        "\n",
        "#with h5py.File('labels.h5', 'r') as hf:\n",
        "#    labels = hf['labels.h5'][:]"
      ],
      "metadata": {
        "id": "Oh92AxRSyb1S"
      },
      "execution_count": null,
      "outputs": []
    },
    {
      "cell_type": "code",
      "source": [
        "# Shuffling the data\n",
        "\n",
        "labels = np.array(labels)\n",
        "\n",
        "shuffler = np.random.RandomState(seed=10).permutation(data.shape[0]) # Used to shuffle the data since the order of the images is sorted\n",
        "\n",
        "y_not_encoded = labels[shuffler]\n",
        "y = np.unique(y_not_encoded, return_inverse=True)[1] # Converting the labels from strings to numbers\n",
        "\n",
        "x = data[shuffler]\n",
        "x = x.astype('float32')\n",
        "x /= 255 # Normalize the pixel values from 0 to 1"
      ],
      "metadata": {
        "id": "agJZ-akzyX3V"
      },
      "execution_count": null,
      "outputs": []
    },
    {
      "cell_type": "code",
      "source": [
        "# Splitting the data on train and test sets\n",
        "\n",
        "x_train, x_test, y_train, y_test = train_test_split(x, y, random_state=10, test_size = 0.2)\n",
        "\n",
        "# Encoding the labels\n",
        "n_classes = 3\n",
        "y_train = np_utils.to_categorical(y_train, n_classes)\n",
        "y_test = np_utils.to_categorical(y_test, n_classes)"
      ],
      "metadata": {
        "id": "eO3xkl75fPgv"
      },
      "execution_count": null,
      "outputs": []
    },
    {
      "cell_type": "code",
      "source": [
        "# building a linear stack of layers with the sequential model\n",
        "model = Sequential()\n",
        "\n",
        "# convolutional layer\n",
        "model.add(Conv2D(50, kernel_size=(3,3), strides=(1,1), padding='same', activation='relu', input_shape=(128, 128, 3)))\n",
        "\n",
        "# convolutional layer\n",
        "model.add(Conv2D(75, kernel_size=(3,3), strides=(1,1), padding='same', activation='relu'))\n",
        "model.add(MaxPool2D(pool_size=(2,2)))\n",
        "model.add(Dropout(0.25))\n",
        "\n",
        "model.add(Conv2D(125, kernel_size=(3,3), strides=(1,1), padding='same', activation='relu'))\n",
        "model.add(MaxPool2D(pool_size=(2,2)))\n",
        "model.add(Dropout(0.25))\n",
        "\n",
        "# flatten output of conv\n",
        "model.add(Flatten())\n",
        "\n",
        "# hidden layer\n",
        "model.add(Dense(500, activation='relu'))\n",
        "model.add(Dropout(0.4))\n",
        "model.add(Dense(250, activation='relu'))\n",
        "model.add(Dropout(0.3))\n",
        "# output layer\n",
        "model.add(Dense(3, activation='softmax'))\n",
        "\n",
        "# compiling the sequential model\n",
        "model.compile(loss='categorical_crossentropy', metrics=['accuracy'], optimizer='adam')\n",
        "\n",
        "# training the model for 10 epochs\n",
        "model.fit(x_train, y_train, batch_size=128, epochs=10, validation_data=(x_test, y_test),)"
      ],
      "metadata": {
        "colab": {
          "base_uri": "https://localhost:8080/"
        },
        "id": "NSQ9FjHHe_Q_",
        "outputId": "07cae6e1-47b3-4b1d-f6df-c0d820c0d009"
      },
      "execution_count": null,
      "outputs": [
        {
          "output_type": "stream",
          "name": "stdout",
          "text": [
            "Epoch 1/10\n",
            "63/63 [==============================] - 35s 367ms/step - loss: 0.4925 - accuracy: 0.8129 - val_loss: 0.2934 - val_accuracy: 0.9005\n",
            "Epoch 2/10\n",
            "63/63 [==============================] - 20s 311ms/step - loss: 0.2575 - accuracy: 0.9110 - val_loss: 0.2710 - val_accuracy: 0.9130\n",
            "Epoch 3/10\n",
            "63/63 [==============================] - 20s 316ms/step - loss: 0.1917 - accuracy: 0.9391 - val_loss: 0.2279 - val_accuracy: 0.9235\n",
            "Epoch 4/10\n",
            "63/63 [==============================] - 20s 323ms/step - loss: 0.1736 - accuracy: 0.9404 - val_loss: 0.2128 - val_accuracy: 0.9430\n",
            "Epoch 5/10\n",
            "63/63 [==============================] - 21s 330ms/step - loss: 0.1558 - accuracy: 0.9501 - val_loss: 0.2778 - val_accuracy: 0.9010\n",
            "Epoch 6/10\n",
            "63/63 [==============================] - 21s 331ms/step - loss: 0.1375 - accuracy: 0.9553 - val_loss: 0.2680 - val_accuracy: 0.9035\n",
            "Epoch 7/10\n",
            "63/63 [==============================] - 20s 325ms/step - loss: 0.1286 - accuracy: 0.9570 - val_loss: 0.2304 - val_accuracy: 0.9330\n",
            "Epoch 8/10\n",
            "63/63 [==============================] - 20s 325ms/step - loss: 0.1080 - accuracy: 0.9654 - val_loss: 0.2456 - val_accuracy: 0.9310\n",
            "Epoch 9/10\n",
            "63/63 [==============================] - 21s 328ms/step - loss: 0.0888 - accuracy: 0.9719 - val_loss: 0.3334 - val_accuracy: 0.9065\n",
            "Epoch 10/10\n",
            "63/63 [==============================] - 21s 329ms/step - loss: 0.0758 - accuracy: 0.9759 - val_loss: 0.2691 - val_accuracy: 0.9195\n"
          ]
        },
        {
          "output_type": "execute_result",
          "data": {
            "text/plain": [
              "<keras.callbacks.History at 0x7f4d404f6150>"
            ]
          },
          "metadata": {},
          "execution_count": 16
        }
      ]
    },
    {
      "cell_type": "code",
      "source": [
        "model.summary()"
      ],
      "metadata": {
        "colab": {
          "base_uri": "https://localhost:8080/"
        },
        "id": "JOMlI1WcqCeN",
        "outputId": "aae34934-7364-4a5a-d9c8-24d0fad4e6a6"
      },
      "execution_count": null,
      "outputs": [
        {
          "output_type": "stream",
          "name": "stdout",
          "text": [
            "Model: \"sequential\"\n",
            "_________________________________________________________________\n",
            " Layer (type)                Output Shape              Param #   \n",
            "=================================================================\n",
            " conv2d (Conv2D)             (None, 128, 128, 50)      1400      \n",
            "                                                                 \n",
            " conv2d_1 (Conv2D)           (None, 128, 128, 75)      33825     \n",
            "                                                                 \n",
            " max_pooling2d (MaxPooling2D  (None, 64, 64, 75)       0         \n",
            " )                                                               \n",
            "                                                                 \n",
            " dropout (Dropout)           (None, 64, 64, 75)        0         \n",
            "                                                                 \n",
            " conv2d_2 (Conv2D)           (None, 64, 64, 125)       84500     \n",
            "                                                                 \n",
            " max_pooling2d_1 (MaxPooling  (None, 32, 32, 125)      0         \n",
            " 2D)                                                             \n",
            "                                                                 \n",
            " dropout_1 (Dropout)         (None, 32, 32, 125)       0         \n",
            "                                                                 \n",
            " flatten (Flatten)           (None, 128000)            0         \n",
            "                                                                 \n",
            " dense (Dense)               (None, 500)               64000500  \n",
            "                                                                 \n",
            " dropout_2 (Dropout)         (None, 500)               0         \n",
            "                                                                 \n",
            " dense_1 (Dense)             (None, 250)               125250    \n",
            "                                                                 \n",
            " dropout_3 (Dropout)         (None, 250)               0         \n",
            "                                                                 \n",
            " dense_2 (Dense)             (None, 3)                 753       \n",
            "                                                                 \n",
            "=================================================================\n",
            "Total params: 64,246,228\n",
            "Trainable params: 64,246,228\n",
            "Non-trainable params: 0\n",
            "_________________________________________________________________\n"
          ]
        }
      ]
    },
    {
      "cell_type": "code",
      "source": [
        "y_pred = model.predict(x_test)\n",
        "\n",
        "y_pred_int = np.argmax(y_pred, axis=1)\n",
        "y_test_int = np.argmax(y_test, axis=1)\n",
        "\n",
        "result = confusion_matrix(y_test_int, y_pred_int, normalize='pred')"
      ],
      "metadata": {
        "colab": {
          "base_uri": "https://localhost:8080/"
        },
        "id": "rF70qdsi59nO",
        "outputId": "80fbe622-7f63-42d3-d6a3-e6bdcee4a358"
      },
      "execution_count": null,
      "outputs": [
        {
          "output_type": "stream",
          "name": "stdout",
          "text": [
            "63/63 [==============================] - 3s 30ms/step\n"
          ]
        }
      ]
    },
    {
      "cell_type": "code",
      "source": [
        "ax= plt.subplot()\n",
        "sns.heatmap(result, annot=True, fmt='g', ax=ax);  #annot=True to annotate cells, ftm='g' to disable scientific notation\n",
        "\n",
        "ax.set_xlabel('Predicted labels'); ax.set_ylabel('True labels'); \n",
        "ax.set_title('Confusion Matrix'); \n",
        "ax.xaxis.set_ticklabels(['Galaxies', 'Quasars', 'Stars']); ax.yaxis.set_ticklabels(['Galaxies', 'Quasars', 'Stars']);"
      ],
      "metadata": {
        "colab": {
          "base_uri": "https://localhost:8080/",
          "height": 295
        },
        "id": "qlzqaclD46jD",
        "outputId": "932632dd-3bb8-46f9-a1ab-e5ca9c5f96b9"
      },
      "execution_count": null,
      "outputs": [
        {
          "output_type": "display_data",
          "data": {
            "text/plain": [
              "<Figure size 432x288 with 2 Axes>"
            ],
            "image/png": "[encoded data removed]"
          },
          "metadata": {
            "needs_background": "light"
          }
        }
      ]
    },
    {
      "cell_type": "code",
      "source": [
        "print(classification_report(y_test_int, y_pred_int, target_names=['Galaxies', 'Quasars', 'Stars']))"
      ],
      "metadata": {
        "colab": {
          "base_uri": "https://localhost:8080/"
        },
        "id": "e_mZwuQE865K",
        "outputId": "81c974bc-fc04-499f-f47a-2793229ae4a0"
      },
      "execution_count": null,
      "outputs": [
        {
          "output_type": "stream",
          "name": "stdout",
          "text": [
            "              precision    recall  f1-score   support\n",
            "\n",
            "    Galaxies       0.96      0.98      0.97       977\n",
            "     Quasars       0.65      0.72      0.68       196\n",
            "       Stars       0.94      0.89      0.92       827\n",
            "\n",
            "    accuracy                           0.92      2000\n",
            "   macro avg       0.85      0.87      0.86      2000\n",
            "weighted avg       0.92      0.92      0.92      2000\n",
            "\n"
          ]
        }
      ]
    }
  ]
}
