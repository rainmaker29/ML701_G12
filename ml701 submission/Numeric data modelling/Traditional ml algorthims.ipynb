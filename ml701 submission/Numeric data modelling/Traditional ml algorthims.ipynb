{
 "cells": [
  {
   "cell_type": "markdown",
   "id": "5a7dcdb5",
   "metadata": {},
   "source": [
    "## Dividing features according to their inherent usefulness"
   ]
  },
  {
   "cell_type": "code",
   "execution_count": 3,
   "id": "85ac6a01",
   "metadata": {},
   "outputs": [
    {
     "name": "stdout",
     "output_type": "stream",
     "text": [
      "[WinError 2] The system cannot find the file specified: 'Desktop'\n",
      "C:\\Users\\Farah\\Desktop\n"
     ]
    },
    {
     "data": {
      "text/html": [
       "<div>\n",
       "<style scoped>\n",
       "    .dataframe tbody tr th:only-of-type {\n",
       "        vertical-align: middle;\n",
       "    }\n",
       "\n",
       "    .dataframe tbody tr th {\n",
       "        vertical-align: top;\n",
       "    }\n",
       "\n",
       "    .dataframe thead th {\n",
       "        text-align: right;\n",
       "    }\n",
       "</style>\n",
       "<table border=\"1\" class=\"dataframe\">\n",
       "  <thead>\n",
       "    <tr style=\"text-align: right;\">\n",
       "      <th></th>\n",
       "      <th>u</th>\n",
       "      <th>g</th>\n",
       "      <th>r</th>\n",
       "      <th>i</th>\n",
       "      <th>z</th>\n",
       "      <th>redshift</th>\n",
       "    </tr>\n",
       "  </thead>\n",
       "  <tbody>\n",
       "    <tr>\n",
       "      <th>0</th>\n",
       "      <td>19.47406</td>\n",
       "      <td>17.04240</td>\n",
       "      <td>15.94699</td>\n",
       "      <td>15.50342</td>\n",
       "      <td>15.22531</td>\n",
       "      <td>-0.000009</td>\n",
       "    </tr>\n",
       "    <tr>\n",
       "      <th>1</th>\n",
       "      <td>18.66280</td>\n",
       "      <td>17.21449</td>\n",
       "      <td>16.67637</td>\n",
       "      <td>16.48922</td>\n",
       "      <td>16.39150</td>\n",
       "      <td>-0.000055</td>\n",
       "    </tr>\n",
       "    <tr>\n",
       "      <th>2</th>\n",
       "      <td>19.38298</td>\n",
       "      <td>18.19169</td>\n",
       "      <td>17.47428</td>\n",
       "      <td>17.08732</td>\n",
       "      <td>16.80125</td>\n",
       "      <td>0.123111</td>\n",
       "    </tr>\n",
       "    <tr>\n",
       "      <th>3</th>\n",
       "      <td>17.76536</td>\n",
       "      <td>16.60272</td>\n",
       "      <td>16.16116</td>\n",
       "      <td>15.98233</td>\n",
       "      <td>15.90438</td>\n",
       "      <td>-0.000111</td>\n",
       "    </tr>\n",
       "    <tr>\n",
       "      <th>4</th>\n",
       "      <td>17.55025</td>\n",
       "      <td>16.26342</td>\n",
       "      <td>16.43869</td>\n",
       "      <td>16.55492</td>\n",
       "      <td>16.61326</td>\n",
       "      <td>0.000590</td>\n",
       "    </tr>\n",
       "  </tbody>\n",
       "</table>\n",
       "</div>"
      ],
      "text/plain": [
       "          u         g         r         i         z  redshift\n",
       "0  19.47406  17.04240  15.94699  15.50342  15.22531 -0.000009\n",
       "1  18.66280  17.21449  16.67637  16.48922  16.39150 -0.000055\n",
       "2  19.38298  18.19169  17.47428  17.08732  16.80125  0.123111\n",
       "3  17.76536  16.60272  16.16116  15.98233  15.90438 -0.000111\n",
       "4  17.55025  16.26342  16.43869  16.55492  16.61326  0.000590"
      ]
     },
     "execution_count": 3,
     "metadata": {},
     "output_type": "execute_result"
    }
   ],
   "source": [
    "import pandas as pd\n",
    "import matplotlib.pyplot as plt\n",
    "import numpy as np\n",
    "%cd \"Desktop\"\n",
    "dataset = pd.read_csv('dataset.csv')\n",
    "#The inner square brackets define a Python list with column names. \n",
    "#The outer brackets are used to select the data from a pandas DataFrame.\n",
    "useful_features=dataset[[\"u\", \"g\",'r','i','z','redshift']]\n",
    "semi_features=dataset[['ra','dec','fiberid','mjd']]\n",
    "non_useful_features=dataset[['camcol','rerun','field','specobjid','run','plate']]\n",
    "df=pd.DataFrame(useful_features)\n",
    "# fill missing values\n",
    "df = df.fillna(df.median()).clip(-1e11,1e11)\n",
    "df.head()"
   ]
  },
  {
   "cell_type": "markdown",
   "id": "edc49cff",
   "metadata": {},
   "source": [
    "### will perform grid search on the following combinations of features:\n",
    "* Useful\n",
    "* useful+semi-useful\n",
    "* All features"
   ]
  },
  {
   "cell_type": "code",
   "execution_count": 4,
   "id": "6e4abb36",
   "metadata": {},
   "outputs": [],
   "source": [
    "from sklearn.linear_model import LogisticRegression\n",
    "from sklearn.svm import SVC\n",
    "from sklearn.ensemble import RandomForestClassifier\n",
    "from sklearn.pipeline import Pipeline\n",
    "from sklearn.model_selection import GridSearchCV, RandomizedSearchCV\n",
    "from sklearn.model_selection import train_test_split\n",
    "from sklearn.tree import DecisionTreeClassifier\n",
    "from sklearn.neighbors import KNeighborsClassifier\n",
    "from sklearn.metrics import *"
   ]
  },
  {
   "cell_type": "code",
   "execution_count": 5,
   "id": "53849ae1",
   "metadata": {},
   "outputs": [],
   "source": [
    "dataset['class'] = dataset['class'].replace(['GALAXY','STAR','QSO'],[0,1,-1]) \n",
    "y = dataset['class']\n",
    "X = df\n",
    "X_train, X_test, y_train, y_test = train_test_split(X, y, test_size=0.2, random_state=42, stratify=y)\n",
    "from sklearn.preprocessing import StandardScaler \n",
    "scale = StandardScaler()\n",
    "# estimators/models\n",
    "clf1 = RandomForestClassifier(random_state=42)\n",
    "clf2 = SVC(probability=True, random_state=42)\n",
    "clf3 = LogisticRegression(random_state=42)\n",
    "clf4 = DecisionTreeClassifier(random_state=42)\n",
    "clf5 = KNeighborsClassifier()"
   ]
  },
  {
   "cell_type": "code",
   "execution_count": 6,
   "id": "140c2158",
   "metadata": {},
   "outputs": [],
   "source": [
    "# parameters per dictionary\n",
    "param1 = {}\n",
    "param1['classifier__n_estimators'] = [10, 50, 100, 250]\n",
    "param1['classifier__max_depth'] = [5, 10, 20]\n",
    "param1['classifier__class_weight'] = [None, {0:1,1:5}, {0:1,1:10}, {0:1,1:25}]\n",
    "param1['classifier'] = [clf1]\n",
    "\n",
    "param2 = {}\n",
    "param2['classifier__C'] = [10**-2, 10**-1, 10**0, 10**1, 10**2]\n",
    "param2['classifier__class_weight'] = [None, {0:1,1:5}, {0:1,1:10}, {0:1,1:25}]\n",
    "param2['classifier'] = [clf2]\n",
    "\n",
    "param3 = {}\n",
    "param3['classifier__C'] = [10**-2, 10**-1, 10**0, 10**1, 10**2]\n",
    "param3['classifier__class_weight'] = [None, {0:1,1:5}, {0:1,1:10}, {0:1,1:25}]\n",
    "param3['classifier'] = [clf3]\n",
    "\n",
    "param4 = {}\n",
    "param4['classifier__max_depth'] = [5,10,25,None]\n",
    "param4['classifier__min_samples_split'] = [2,5,10]\n",
    "param4['classifier__class_weight'] = [None, {0:1,1:5}, {0:1,1:10}, {0:1,1:25}]\n",
    "param4['classifier'] = [clf4]\n",
    "\n",
    "param5 = {}\n",
    "param5['classifier__n_neighbors'] = [2,5,10,25,50]\n",
    "param5['classifier'] = [clf5]"
   ]
  },
  {
   "cell_type": "code",
   "execution_count": 7,
   "id": "27192b0e",
   "metadata": {},
   "outputs": [],
   "source": [
    "pipeline = Pipeline([('scale',scale) , ('classifier', clf1)])\n",
    "params = [param1, param2, param3, param4, param5]"
   ]
  },
  {
   "cell_type": "code",
   "execution_count": 8,
   "id": "a89e5481",
   "metadata": {
    "scrolled": true
   },
   "outputs": [
    {
     "name": "stdout",
     "output_type": "stream",
     "text": [
      "Wall time: 1min 25s\n"
     ]
    }
   ],
   "source": [
    "%%time\n",
    "gs = RandomizedSearchCV(pipeline, params, cv=3, n_jobs=-1, error_score='raise').fit(X_train, y_train)"
   ]
  },
  {
   "cell_type": "code",
   "execution_count": 9,
   "id": "cf82d79a",
   "metadata": {},
   "outputs": [
    {
     "data": {
      "text/plain": [
       "0.9886246871054096"
      ]
     },
     "execution_count": 9,
     "metadata": {},
     "output_type": "execute_result"
    }
   ],
   "source": [
    "gs.best_score_"
   ]
  },
  {
   "cell_type": "code",
   "execution_count": 10,
   "id": "c4604de1",
   "metadata": {
    "scrolled": true
   },
   "outputs": [
    {
     "data": {
      "text/plain": [
       "{'classifier__n_estimators': 10,\n",
       " 'classifier__max_depth': 20,\n",
       " 'classifier__class_weight': {0: 1, 1: 10},\n",
       " 'classifier': RandomForestClassifier(class_weight={0: 1, 1: 10}, max_depth=20,\n",
       "                        n_estimators=10, random_state=42)}"
      ]
     },
     "execution_count": 10,
     "metadata": {},
     "output_type": "execute_result"
    }
   ],
   "source": [
    "gs.best_params_"
   ]
  },
  {
   "cell_type": "code",
   "execution_count": 12,
   "id": "38a86750",
   "metadata": {},
   "outputs": [],
   "source": [
    "predict= gs.predict(X_test)"
   ]
  },
  {
   "cell_type": "code",
   "execution_count": 13,
   "id": "f032e498",
   "metadata": {},
   "outputs": [
    {
     "data": {
      "text/plain": [
       "0.9905"
      ]
     },
     "execution_count": 13,
     "metadata": {},
     "output_type": "execute_result"
    }
   ],
   "source": [
    "from sklearn.metrics import accuracy_score\n",
    "accuracy_score(y_test, predict)"
   ]
  },
  {
   "cell_type": "markdown",
   "id": "f45a870b",
   "metadata": {},
   "source": [
    "# Useful+semi"
   ]
  },
  {
   "cell_type": "code",
   "execution_count": 14,
   "id": "8a274a84",
   "metadata": {
    "scrolled": true
   },
   "outputs": [],
   "source": [
    "useful_and_semi_features=dataset[['ra','dec','fiberid','mjd',\"u\", \"g\",'r','i','z','redshift']]\n",
    "df=pd.DataFrame(useful_and_semi_features)\n",
    "# fill missing values\n",
    "df = df.fillna(df.median()).clip(-1e11,1e11)"
   ]
  },
  {
   "cell_type": "code",
   "execution_count": 15,
   "id": "29bf8cb8",
   "metadata": {},
   "outputs": [],
   "source": [
    "y = dataset['class']\n",
    "X = df\n",
    "X_train, X_test, y_train, y_test = train_test_split(X, y, test_size=0.2, random_state=42, stratify=y)"
   ]
  },
  {
   "cell_type": "code",
   "execution_count": 16,
   "id": "234d43f1",
   "metadata": {},
   "outputs": [
    {
     "name": "stdout",
     "output_type": "stream",
     "text": [
      "Wall time: 31.3 s\n"
     ]
    }
   ],
   "source": [
    "%%time\n",
    "gs = RandomizedSearchCV(pipeline, params, cv=3, n_jobs=-1, error_score='raise').fit(X_train, y_train)"
   ]
  },
  {
   "cell_type": "code",
   "execution_count": 17,
   "id": "0fc75235",
   "metadata": {},
   "outputs": [
    {
     "data": {
      "text/plain": [
       "0.9886246402245481"
      ]
     },
     "execution_count": 17,
     "metadata": {},
     "output_type": "execute_result"
    }
   ],
   "source": [
    "gs.best_score_"
   ]
  },
  {
   "cell_type": "code",
   "execution_count": 18,
   "id": "d1ec5536",
   "metadata": {
    "scrolled": true
   },
   "outputs": [
    {
     "data": {
      "text/plain": [
       "{'classifier__n_estimators': 50,\n",
       " 'classifier__max_depth': 10,\n",
       " 'classifier__class_weight': {0: 1, 1: 5},\n",
       " 'classifier': RandomForestClassifier(class_weight={0: 1, 1: 5}, max_depth=10, n_estimators=50,\n",
       "                        random_state=42)}"
      ]
     },
     "execution_count": 18,
     "metadata": {},
     "output_type": "execute_result"
    }
   ],
   "source": [
    "gs.best_params_"
   ]
  },
  {
   "cell_type": "code",
   "execution_count": 19,
   "id": "7f83261b",
   "metadata": {},
   "outputs": [
    {
     "data": {
      "text/plain": [
       "0.9915"
      ]
     },
     "execution_count": 19,
     "metadata": {},
     "output_type": "execute_result"
    }
   ],
   "source": [
    "predict= gs.predict(X_test)\n",
    "accuracy_score(y_test, predict)"
   ]
  },
  {
   "cell_type": "markdown",
   "id": "91daf4ec",
   "metadata": {},
   "source": [
    "# All features"
   ]
  },
  {
   "cell_type": "code",
   "execution_count": 20,
   "id": "fc595963",
   "metadata": {},
   "outputs": [],
   "source": [
    "all_features=dataset[['ra','dec','fiberid','mjd',\"u\", \"g\",'r','i','z','redshift','camcol','rerun','field','specobjid','run','plate']]\n",
    "df=pd.DataFrame(all_features)\n",
    "# fill missing values\n",
    "df = df.fillna(df.median()).clip(-1e11,1e11)"
   ]
  },
  {
   "cell_type": "code",
   "execution_count": 21,
   "id": "2df17dce",
   "metadata": {},
   "outputs": [],
   "source": [
    "y = dataset['class']\n",
    "X = df\n",
    "X_train, X_test, y_train, y_test = train_test_split(X, y, test_size=0.2, random_state=42, stratify=y)"
   ]
  },
  {
   "cell_type": "code",
   "execution_count": 22,
   "id": "89948795",
   "metadata": {},
   "outputs": [
    {
     "name": "stdout",
     "output_type": "stream",
     "text": [
      "Wall time: 34.8 s\n"
     ]
    }
   ],
   "source": [
    "%%time\n",
    "gs = RandomizedSearchCV(pipeline, params, cv=3, n_jobs=-1, error_score='raise').fit(X_train, y_train)"
   ]
  },
  {
   "cell_type": "code",
   "execution_count": 23,
   "id": "340e479a",
   "metadata": {},
   "outputs": [
    {
     "data": {
      "text/plain": [
       "0.9886247339862712"
      ]
     },
     "execution_count": 23,
     "metadata": {},
     "output_type": "execute_result"
    }
   ],
   "source": [
    "gs.best_score_"
   ]
  },
  {
   "cell_type": "code",
   "execution_count": 24,
   "id": "e374e554",
   "metadata": {},
   "outputs": [
    {
     "data": {
      "text/plain": [
       "{'classifier__n_estimators': 100,\n",
       " 'classifier__max_depth': 20,\n",
       " 'classifier__class_weight': {0: 1, 1: 25},\n",
       " 'classifier': RandomForestClassifier(class_weight={0: 1, 1: 25}, max_depth=20,\n",
       "                        random_state=42)}"
      ]
     },
     "execution_count": 24,
     "metadata": {},
     "output_type": "execute_result"
    }
   ],
   "source": [
    "gs.best_params_"
   ]
  },
  {
   "cell_type": "code",
   "execution_count": 25,
   "id": "882f78ec",
   "metadata": {},
   "outputs": [
    {
     "data": {
      "text/plain": [
       "0.9905"
      ]
     },
     "execution_count": 25,
     "metadata": {},
     "output_type": "execute_result"
    }
   ],
   "source": [
    "predict= gs.predict(X_test)\n",
    "accuracy_score(y_test, predict)"
   ]
  }
 ],
 "metadata": {
  "kernelspec": {
   "display_name": "Python 3",
   "language": "python",
   "name": "python3"
  },
  "language_info": {
   "codemirror_mode": {
    "name": "ipython",
    "version": 3
   },
   "file_extension": ".py",
   "mimetype": "text/x-python",
   "name": "python",
   "nbconvert_exporter": "python",
   "pygments_lexer": "ipython3",
   "version": "3.8.8"
  }
 },
 "nbformat": 4,
 "nbformat_minor": 5
}
