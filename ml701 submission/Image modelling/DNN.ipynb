{
 "cells": [
  {
   "cell_type": "code",
   "execution_count": 24,
   "id": "23715a6e",
   "metadata": {},
   "outputs": [],
   "source": [
    "import torch\n",
    "import torchvision\n",
    "import torch.nn.functional as F\n",
    "import matplotlib.pyplot as plt\n",
    "import torch.nn as nn\n",
    "import torch.optim as optim\n",
    "from torchvision import transforms, datasets\n",
    "from sklearn.metrics import classification_report"
   ]
  },
  {
   "cell_type": "code",
   "execution_count": 44,
   "id": "cf71dd95",
   "metadata": {},
   "outputs": [],
   "source": [
    "train_transforms = transforms.Compose([transforms.RandomRotation(30),\n",
    "                                      #transforms.RandomResizedCrop(224),\n",
    "                                      transforms.RandomHorizontalFlip(),\n",
    "                                      #transforms.functional.rgb_to_grayscale,\n",
    "                                      transforms.ToTensor()])\n",
    "\n",
    "test_transforms = transforms.Compose([transforms.RandomRotation(30),\n",
    "                                     #transforms.RandomResizedCrop(224),\n",
    "                                     #transforms.functional.rgb_to_grayscale,\n",
    "                                     transforms.ToTensor()])\n",
    "\n",
    "\n",
    "train_data = datasets.ImageFolder('/home/farah.alharthi/ml_lab/project/train_', transform=train_transforms)\n",
    "test_data = datasets.ImageFolder('/home/farah.alharthi/ml_lab/project/test_', transform=test_transforms)\n",
    "\n",
    "trainset = torch.utils.data.DataLoader(train_data, batch_size=16, shuffle=True)\n",
    "testset = torch.utils.data.DataLoader(test_data, batch_size=16, shuffle=True)"
   ]
  },
  {
   "cell_type": "code",
   "execution_count": 45,
   "id": "836b7d70",
   "metadata": {},
   "outputs": [],
   "source": [
    "class NeuralNetwork(nn.Module):\n",
    "    def __init__(self):\n",
    "        super().__init__()\n",
    "        self.fc1 = nn.Linear(3*128*128, 64)\n",
    "        self.fc2 = nn.Linear(64, 32)\n",
    "        self.fc3 = nn.Linear(32, 16)\n",
    "        self.fc4 = nn.Linear(16, 3)\n",
    "\n",
    "    def forward(self, x):\n",
    "        x = F.relu(self.fc1(x))\n",
    "        x = F.relu(self.fc2(x))\n",
    "        x = F.relu(self.fc3(x))\n",
    "        x = self.fc4(x)\n",
    "        return F.log_softmax(x, dim=1)\n",
    "\n",
    "model = NeuralNetwork()"
   ]
  },
  {
   "cell_type": "code",
   "execution_count": 46,
   "id": "1beadf6d",
   "metadata": {},
   "outputs": [
    {
     "name": "stdout",
     "output_type": "stream",
     "text": [
      "tensor(0.3013, grad_fn=<NllLossBackward0>)\n",
      "tensor(0.1515, grad_fn=<NllLossBackward0>)\n",
      "tensor(0.2462, grad_fn=<NllLossBackward0>)\n"
     ]
    }
   ],
   "source": [
    "optimizer = optim.Adam(model.parameters(), lr=0.001)\n",
    "EPOCHS = 3\n",
    "for epoch in range(EPOCHS):\n",
    "    for data in trainset:\n",
    "        X, y = data\n",
    "        model.zero_grad()\n",
    "        # to reset the gradients of model parameters;\n",
    "        # gradients by default add up; to prevent double-counting, we explicitly zero them at each iteration.\n",
    "        output = model(X.view(-1,3*128*128))\n",
    "        #flatten image to one dimensional array\n",
    "#-------------------------------------------------------------------\n",
    "        loss = F.nll_loss(output, y)\n",
    "        #The negative log likelihood loss.\n",
    "        loss.backward()\n",
    "        #Backpropagate the prediction loss \n",
    "        #PyTorch assign the gradients of the loss to each parameter.\n",
    "        optimizer.step()\n",
    "        #adjust the parameters by the gradients collected in the backward pass.\n",
    "        \n",
    "    print(loss)"
   ]
  },
  {
   "cell_type": "code",
   "execution_count": 47,
   "id": "91fc194a",
   "metadata": {},
   "outputs": [
    {
     "data": {
      "image/png": "[encoded data removed]",
      "text/plain": [
       "<Figure size 1200x700 with 2 Axes>"
      ]
     },
     "metadata": {},
     "output_type": "display_data"
    }
   ],
   "source": [
    "from sklearn.metrics import confusion_matrix\n",
    "import seaborn as sn\n",
    "import pandas as pd\n",
    "import numpy as np\n",
    "\n",
    "y_pred = []\n",
    "y_true = []\n",
    "correct = 0\n",
    "total = 0\n",
    "\n",
    "# iterate over test data\n",
    "for inputs, labels in testset:\n",
    "        output = model(inputs.view(-1, 3*128 * 128)) # Feed Network with flatten x\n",
    "\n",
    "        output = (torch.max(torch.exp(output), 1)[1]).data.cpu().numpy()\n",
    "        # output of nn is batchsize*number of classes, we want only the highest valued class for each data(row)\n",
    "        y_pred.extend(output) # Save Prediction\n",
    "        \n",
    "        labels = labels.data.cpu().numpy()\n",
    "        y_true.extend(labels) # Save Truth\n",
    "    \n",
    "# constant for classes\n",
    "classes = ('Galaxy', 'QSD', 'star')\n",
    "\n",
    "# Build confusion matrix\n",
    "cf_matrix = confusion_matrix(y_true, y_pred)\n",
    "df_cm = pd.DataFrame(cf_matrix/np.sum(cf_matrix) *10, index = [i for i in classes],\n",
    "                     columns = [i for i in classes])\n",
    "plt.figure(figsize = (12,7))\n",
    "sn.heatmap(df_cm, annot=True)\n",
    "plt.savefig('output.png')"
   ]
  },
  {
   "cell_type": "code",
   "execution_count": 48,
   "id": "787ae3a0",
   "metadata": {
    "scrolled": false
   },
   "outputs": [
    {
     "name": "stdout",
     "output_type": "stream",
     "text": [
      "              precision    recall  f1-score   support\n",
      "\n",
      "      Galaxy       0.93      0.98      0.95       130\n",
      "         QSD       0.98      0.32      0.48       130\n",
      "        star       0.59      0.97      0.74       130\n",
      "\n",
      "    accuracy                           0.75       390\n",
      "   macro avg       0.83      0.75      0.72       390\n",
      "weighted avg       0.83      0.75      0.72       390\n",
      "\n"
     ]
    }
   ],
   "source": [
    "print(classification_report(y_true, y_pred, target_names=classes))"
   ]
  }
 ],
 "metadata": {
  "kernelspec": {
   "display_name": "Python 3",
   "language": "python",
   "name": "python3"
  },
  "language_info": {
   "codemirror_mode": {
    "name": "ipython",
    "version": 3
   },
   "file_extension": ".py",
   "mimetype": "text/x-python",
   "name": "python",
   "nbconvert_exporter": "python",
   "pygments_lexer": "ipython3",
   "version": "3.8.8"
  }
 },
 "nbformat": 4,
 "nbformat_minor": 5
}
